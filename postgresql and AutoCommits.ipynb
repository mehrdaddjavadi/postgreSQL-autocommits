{
 "cells": [
  {
   "cell_type": "code",
   "execution_count": 1,
   "id": "582762c0",
   "metadata": {},
   "outputs": [],
   "source": [
    "import psycopg2"
   ]
  },
  {
   "cell_type": "markdown",
   "id": "398483c1",
   "metadata": {},
   "source": [
    "# Create Connection to database"
   ]
  },
  {
   "cell_type": "code",
   "execution_count": 2,
   "id": "f92203c6",
   "metadata": {},
   "outputs": [],
   "source": [
    "conn = psycopg2.connect('host=127.0.0.1 dbname=studentdb user=postgres password=postgres')"
   ]
  },
  {
   "cell_type": "markdown",
   "id": "88bf977f",
   "metadata": {},
   "source": [
    "# Cursor"
   ]
  },
  {
   "cell_type": "code",
   "execution_count": 3,
   "id": "a356c8e4",
   "metadata": {},
   "outputs": [],
   "source": [
    "cur = conn.cursor()"
   ]
  },
  {
   "cell_type": "code",
   "execution_count": 13,
   "id": "3e358f4d",
   "metadata": {},
   "outputs": [
    {
     "ename": "InFailedSqlTransaction",
     "evalue": "current transaction is aborted, commands ignored until end of transaction block\n",
     "output_type": "error",
     "traceback": [
      "\u001b[1;31m---------------------------------------------------------------------------\u001b[0m",
      "\u001b[1;31mInFailedSqlTransaction\u001b[0m                    Traceback (most recent call last)",
      "\u001b[1;32m~\\AppData\\Local\\Temp\\ipykernel_6456\\1128145990.py\u001b[0m in \u001b[0;36m<module>\u001b[1;34m\u001b[0m\n\u001b[1;32m----> 1\u001b[1;33m \u001b[0mcur\u001b[0m\u001b[1;33m.\u001b[0m\u001b[0mexecute\u001b[0m\u001b[1;33m(\u001b[0m\u001b[1;34m'select * from test123'\u001b[0m\u001b[1;33m)\u001b[0m\u001b[1;33m\u001b[0m\u001b[1;33m\u001b[0m\u001b[0m\n\u001b[0m",
      "\u001b[1;31mInFailedSqlTransaction\u001b[0m: current transaction is aborted, commands ignored until end of transaction block\n"
     ]
    }
   ],
   "source": [
    "cur.execute('select * from test123')"
   ]
  },
  {
   "cell_type": "code",
   "execution_count": 16,
   "id": "eb17d100",
   "metadata": {},
   "outputs": [
    {
     "ename": "InFailedSqlTransaction",
     "evalue": "current transaction is aborted, commands ignored until end of transaction block\n",
     "output_type": "error",
     "traceback": [
      "\u001b[1;31m---------------------------------------------------------------------------\u001b[0m",
      "\u001b[1;31mInFailedSqlTransaction\u001b[0m                    Traceback (most recent call last)",
      "\u001b[1;32m~\\AppData\\Local\\Temp\\ipykernel_6456\\173825566.py\u001b[0m in \u001b[0;36m<module>\u001b[1;34m\u001b[0m\n\u001b[1;32m----> 1\u001b[1;33m \u001b[0mcur\u001b[0m\u001b[1;33m.\u001b[0m\u001b[0mexecute\u001b[0m\u001b[1;33m(\u001b[0m\u001b[1;34m\"CREATE TABLE test321(col1 int, col2 int, col3 int);\"\u001b[0m\u001b[1;33m)\u001b[0m\u001b[1;33m;\u001b[0m\u001b[1;33m\u001b[0m\u001b[1;33m\u001b[0m\u001b[0m\n\u001b[0m",
      "\u001b[1;31mInFailedSqlTransaction\u001b[0m: current transaction is aborted, commands ignored until end of transaction block\n"
     ]
    }
   ],
   "source": [
    "cur.execute(\"CREATE TABLE test321(col1 int, col2 int, col3 int);\");"
   ]
  },
  {
   "cell_type": "code",
   "execution_count": 22,
   "id": "c04559cf",
   "metadata": {},
   "outputs": [],
   "source": [
    "conn = psycopg2.connect('dbname=studentdb password=postgres user=postgres')\n",
    "cur = conn.cursor()"
   ]
  },
  {
   "cell_type": "code",
   "execution_count": 23,
   "id": "70893703",
   "metadata": {},
   "outputs": [],
   "source": [
    "conn.set_session(autocommit=True)"
   ]
  },
  {
   "cell_type": "code",
   "execution_count": 27,
   "id": "929f41f3",
   "metadata": {},
   "outputs": [
    {
     "ename": "UndefinedTable",
     "evalue": "relation \"test123\" does not exist\nLINE 1: SELECT * FROM test123;\n                      ^\n",
     "output_type": "error",
     "traceback": [
      "\u001b[1;31m---------------------------------------------------------------------------\u001b[0m",
      "\u001b[1;31mUndefinedTable\u001b[0m                            Traceback (most recent call last)",
      "\u001b[1;32m~\\AppData\\Local\\Temp\\ipykernel_6456\\3790996430.py\u001b[0m in \u001b[0;36m<module>\u001b[1;34m\u001b[0m\n\u001b[1;32m----> 1\u001b[1;33m \u001b[0mcur\u001b[0m\u001b[1;33m.\u001b[0m\u001b[0mexecute\u001b[0m\u001b[1;33m(\u001b[0m\u001b[1;34m\"SELECT * FROM test123;\"\u001b[0m\u001b[1;33m)\u001b[0m\u001b[1;33m\u001b[0m\u001b[1;33m\u001b[0m\u001b[0m\n\u001b[0m",
      "\u001b[1;31mUndefinedTable\u001b[0m: relation \"test123\" does not exist\nLINE 1: SELECT * FROM test123;\n                      ^\n"
     ]
    }
   ],
   "source": [
    "cur.execute(\"SELECT * FROM test123;\")"
   ]
  },
  {
   "cell_type": "code",
   "execution_count": 28,
   "id": "25d6e6e8",
   "metadata": {},
   "outputs": [],
   "source": [
    "cur.execute('CREATE TABLE test123 (col int, col2 int, col3 int);')"
   ]
  },
  {
   "cell_type": "code",
   "execution_count": 30,
   "id": "57e5e8d8",
   "metadata": {},
   "outputs": [],
   "source": [
    "cur.execute(\"select * from test123;\")"
   ]
  },
  {
   "cell_type": "code",
   "execution_count": 33,
   "id": "9be966ba",
   "metadata": {},
   "outputs": [
    {
     "name": "stdout",
     "output_type": "stream",
     "text": [
      "[(0,)]\n"
     ]
    }
   ],
   "source": [
    "cur.execute(\"select count(*) from test123;\")\n",
    "print(cur.fetchall())\n"
   ]
  },
  {
   "cell_type": "code",
   "execution_count": 34,
   "id": "132f8521",
   "metadata": {},
   "outputs": [],
   "source": [
    "cur.execute(\"DROP TABLE test123;\")"
   ]
  },
  {
   "cell_type": "code",
   "execution_count": 36,
   "id": "52c0cfe8",
   "metadata": {},
   "outputs": [],
   "source": [
    "try:\n",
    "    conn = psycopg2.connect(\"host=127.0.0.1 dbname=studentdb user=postgres password=postgres\")\n",
    "except psycopg2.Error as e:\n",
    "    print(\"Error: Could not make connection to the postgres database/n\")\n",
    "    print(e)"
   ]
  },
  {
   "cell_type": "code",
   "execution_count": 37,
   "id": "306cfdf8",
   "metadata": {},
   "outputs": [],
   "source": [
    "try:\n",
    "    cur = conn.cursor()\n",
    "except psycopg2.Error as e:\n",
    "    print(\"Error: Could not get cursor to the database;\")\n",
    "    print(e)"
   ]
  },
  {
   "cell_type": "code",
   "execution_count": 38,
   "id": "3ce3cef4",
   "metadata": {},
   "outputs": [],
   "source": [
    "conn.set_session(autocommit=True)"
   ]
  },
  {
   "cell_type": "code",
   "execution_count": 39,
   "id": "4f6752e8",
   "metadata": {},
   "outputs": [],
   "source": [
    "try:\n",
    "    cur.execute(\"create database mehrdadjavadi;\")\n",
    "except psycopg2.Error as e:\n",
    "    print(e)"
   ]
  },
  {
   "cell_type": "code",
   "execution_count": 40,
   "id": "f59a5244",
   "metadata": {},
   "outputs": [],
   "source": [
    "try:\n",
    "    conn.close()\n",
    "except psycopg2.Error as e:\n",
    "    print(e)"
   ]
  },
  {
   "cell_type": "code",
   "execution_count": 44,
   "id": "b7a846b9",
   "metadata": {},
   "outputs": [
    {
     "name": "stdout",
     "output_type": "stream",
     "text": [
      "Error: Could not make connection \n",
      "connection to server at \"localhost\" (::1), port 5432 failed: fe_sendauth: no password supplied\n",
      "\n"
     ]
    }
   ],
   "source": [
    "try:\n",
    "    conn = psycopg2.connect('dbname=mehrdadjavadi ')\n",
    "except psycopg2.Error as e:\n",
    "    print(\"Error: Could not make connection \")\n",
    "    print(e)"
   ]
  },
  {
   "cell_type": "code",
   "execution_count": 65,
   "id": "ac8ec1d0",
   "metadata": {},
   "outputs": [],
   "source": [
    "try:\n",
    "    conn = psycopg2.connect('dbname=mehrdadjavadi user=postgres password=postgres')\n",
    "except psycopg2.Error as e:\n",
    "    print(\"Error: Could not make connection \")\n",
    "    print(e)"
   ]
  },
  {
   "cell_type": "code",
   "execution_count": 66,
   "id": "d78de57e",
   "metadata": {},
   "outputs": [],
   "source": [
    "conn.set_session(autocommit=True)\n",
    "cur=conn.cursor()"
   ]
  },
  {
   "cell_type": "code",
   "execution_count": 58,
   "id": "64b87d62",
   "metadata": {},
   "outputs": [],
   "source": [
    "try:\n",
    "    cur.execute(\"create table if not exists music_library(album_name varchar, artist_name varchar, year int);\")\n",
    "except psycopg2.Error as e:\n",
    "    print(e)\n"
   ]
  },
  {
   "cell_type": "code",
   "execution_count": 59,
   "id": "e17d660b",
   "metadata": {},
   "outputs": [
    {
     "name": "stdout",
     "output_type": "stream",
     "text": [
      "[(0,)]\n"
     ]
    }
   ],
   "source": [
    "try:\n",
    "    cur.execute(\"select count(*) from music_library\")\n",
    "except psycopg2.Error as e:\n",
    "    print(\"Error: Issue creating table\")\n",
    "    print(e)\n",
    "print(cur.fetchall())"
   ]
  },
  {
   "cell_type": "code",
   "execution_count": 61,
   "id": "d2b547c2",
   "metadata": {},
   "outputs": [],
   "source": [
    "try:\n",
    "    cur.execute(\"insert into music_library (album_name, artist_name, year) VALUES ('Freedom', 'pharrel williams',2010),('Free', 'pharrel williams',2012)\")\n",
    "except psycopg2.Error as e:\n",
    "    print(\"Error: Inserting Rows\")\n",
    "    print(e)\n"
   ]
  },
  {
   "cell_type": "markdown",
   "id": "bfa43540",
   "metadata": {},
   "source": [
    "try:\n",
    "    cur.execute(\"insert into music_library (albume_name, artist_name, year) \\\n",
    "     VALUES (%s, %s, %s)\", \\\n",
    "               (\"Freedom\", 'pharrel williams',2010),)\n",
    "except psycopg2.Error as e:\n",
    "    print(\"Error: Inserting Rows\")\n",
    "    print(e)\n",
    "\n",
    "    \n",
    "try:\n",
    "    cur.execute(\"insert into music_library (albume_name, artist_name, year) \\\n",
    "     VALUES (%s, %s, %s)\", \\\n",
    "              ('Free', 'pharrel williams',2012),)\n",
    "except psycopg2.Error as e:\n",
    "    print(\"Error: Inserting Rows\")\n",
    "    print(e)\n"
   ]
  },
  {
   "cell_type": "code",
   "execution_count": 63,
   "id": "afe8b7bd",
   "metadata": {},
   "outputs": [
    {
     "name": "stdout",
     "output_type": "stream",
     "text": [
      "('Freedom', 'pharrel williams', 2010)\n",
      "('Free', 'pharrel williams', 2012)\n"
     ]
    }
   ],
   "source": [
    "try:\n",
    "    cur.execute(\"SELECT * FROM music_library ;\")\n",
    "except psycopg2.Error as e:\n",
    "    print(\"Error: select * \")\n",
    "    print(e)\n",
    "row = cur.fetchone()\n",
    "while row:\n",
    "    print(row)\n",
    "    row = cur.fetchone()"
   ]
  },
  {
   "cell_type": "code",
   "execution_count": 67,
   "id": "321c2550",
   "metadata": {},
   "outputs": [],
   "source": [
    "try:\n",
    "    cur.execute(\"DROP TABLE music_library\")\n",
    "except psycopg2.Error as e:\n",
    "    print(\"Error: Dropping table\")\n",
    "    print(e)"
   ]
  },
  {
   "cell_type": "code",
   "execution_count": 68,
   "id": "4273a4d4",
   "metadata": {},
   "outputs": [],
   "source": [
    "cur.close()\n",
    "conn.close()"
   ]
  },
  {
   "cell_type": "code",
   "execution_count": null,
   "id": "13720bac",
   "metadata": {},
   "outputs": [],
   "source": []
  }
 ],
 "metadata": {
  "kernelspec": {
   "display_name": "Python 3 (ipykernel)",
   "language": "python",
   "name": "python3"
  },
  "language_info": {
   "codemirror_mode": {
    "name": "ipython",
    "version": 3
   },
   "file_extension": ".py",
   "mimetype": "text/x-python",
   "name": "python",
   "nbconvert_exporter": "python",
   "pygments_lexer": "ipython3",
   "version": "3.9.13"
  }
 },
 "nbformat": 4,
 "nbformat_minor": 5
}
